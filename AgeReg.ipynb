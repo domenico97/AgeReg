{
 "cells": [
  {
   "cell_type": "code",
   "execution_count": 1,
   "metadata": {},
   "outputs": [],
   "source": [
    "import numpy as np # linear algebra\n",
    "import pandas as pd # data processing, CSV file I/O (e.g. pd.read_csv)\n",
    "\n",
    "# Input data files are available in the \"../input/\" directory.\n",
    "# For example, running this (by clicking run or pressing Shift+Enter) will list all files under the input directory\n",
    "import os"
   ]
  },
  {
   "cell_type": "markdown",
   "metadata": {},
   "source": [
    "Format of the file: age_gender_ethnicity_datetime"
   ]
  },
  {
   "cell_type": "code",
   "execution_count": 2,
   "metadata": {},
   "outputs": [
    {
     "name": "stdout",
     "output_type": "stream",
     "text": [
      "Total samples: 23708\n",
      "10_0_0_20170110224402264.jpg.chip.jpg\n"
     ]
    }
   ],
   "source": [
    "path = \"UTKFace/\"\n",
    "files = os.listdir(path)\n",
    "size = len(files)\n",
    "print(\"Total samples:\",size)\n",
    "print(files[50])"
   ]
  },
  {
   "cell_type": "code",
   "execution_count": 3,
   "metadata": {},
   "outputs": [],
   "source": [
    "import cv2\n",
    "images = []\n",
    "ages = []\n",
    "genders = []\n",
    "#prova = cv2.imread(path+files[43])\n",
    "#cv2.imshow('prova',prova)\n",
    "#cv2.waitKey()\n",
    "#cv2.destroyAllWindows()\n",
    "\n",
    "for file in files:\n",
    "    image = cv2.imread(path+file,0)\n",
    "    image = cv2.resize(image,dsize=(64,64))\n",
    "    image = image.reshape((image.shape[0],image.shape[1],1))\n",
    "    images.append(image)\n",
    "    split_var = file.split('_')\n",
    "    ages.append(split_var[0])\n",
    "    genders.append(int(split_var[1]) )"
   ]
  },
  {
   "cell_type": "code",
   "execution_count": 4,
   "metadata": {},
   "outputs": [
    {
     "data": {
      "image/png": "[encoded data removed]",
      "text/plain": [
       "<Figure size 432x288 with 1 Axes>"
      ]
     },
     "metadata": {
      "needs_background": "light"
     },
     "output_type": "display_data"
    },
    {
     "name": "stdout",
     "output_type": "stream",
     "text": [
      "Max value: 99\n"
     ]
    }
   ],
   "source": [
    "import matplotlib.pyplot as plt\n",
    "x_ages = list(set(ages))\n",
    "y_ages = [ages.count(i) for i in x_ages]\n",
    "plt.bar(x_ages,y_ages)\n",
    "plt.show()\n",
    "print(\"Max value:\",max(ages))"
   ]
  },
  {
   "cell_type": "code",
   "execution_count": null,
   "metadata": {},
   "outputs": [],
   "source": []
  }
 ],
 "metadata": {
  "kernelspec": {
   "display_name": "fvab",
   "language": "python",
   "name": "myenv"
  },
  "language_info": {
   "codemirror_mode": {
    "name": "ipython",
    "version": 3
   },
   "file_extension": ".py",
   "mimetype": "text/x-python",
   "name": "python",
   "nbconvert_exporter": "python",
   "pygments_lexer": "ipython3",
   "version": "3.7.7"
  }
 },
 "nbformat": 4,
 "nbformat_minor": 4
}
